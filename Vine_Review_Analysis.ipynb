{
  "nbformat": 4,
  "nbformat_minor": 0,
  "metadata": {
    "colab": {
      "name": "Vine_Review_Analysis.ipynb",
      "provenance": []
    },
    "kernelspec": {
      "name": "python3",
      "display_name": "Python 3"
    },
    "language_info": {
      "name": "python"
    }
  },
  "cells": [
    {
      "cell_type": "code",
      "execution_count": 3,
      "metadata": {
        "colab": {
          "base_uri": "https://localhost:8080/"
        },
        "id": "d7ryqkj_ewBB",
        "outputId": "4bdb7d94-62e5-4678-9d40-1256c885b708"
      },
      "outputs": [
        {
          "output_type": "stream",
          "name": "stdout",
          "text": [
            "\r0% [Working]\r            \rGet:1 https://cloud.r-project.org/bin/linux/ubuntu bionic-cran40/ InRelease [3,626 B]\n",
            "Get:2 https://developer.download.nvidia.com/compute/cuda/repos/ubuntu1804/x86_64  InRelease [1,581 B]\n",
            "Get:3 http://ppa.launchpad.net/c2d4u.team/c2d4u4.0+/ubuntu bionic InRelease [15.9 kB]\n",
            "Get:4 http://security.ubuntu.com/ubuntu bionic-security InRelease [88.7 kB]\n",
            "Hit:5 http://archive.ubuntu.com/ubuntu bionic InRelease\n",
            "Get:6 http://archive.ubuntu.com/ubuntu bionic-updates InRelease [88.7 kB]\n",
            "Ign:7 https://developer.download.nvidia.com/compute/machine-learning/repos/ubuntu1804/x86_64  InRelease\n",
            "Hit:8 https://developer.download.nvidia.com/compute/machine-learning/repos/ubuntu1804/x86_64  Release\n",
            "Hit:9 http://ppa.launchpad.net/cran/libgit2/ubuntu bionic InRelease\n",
            "Get:10 https://developer.download.nvidia.com/compute/cuda/repos/ubuntu1804/x86_64  Packages [813 kB]\n",
            "Get:11 http://ppa.launchpad.net/deadsnakes/ppa/ubuntu bionic InRelease [15.9 kB]\n",
            "Get:12 http://archive.ubuntu.com/ubuntu bionic-backports InRelease [74.6 kB]\n",
            "Get:13 http://ppa.launchpad.net/graphics-drivers/ppa/ubuntu bionic InRelease [21.3 kB]\n",
            "Get:14 http://ppa.launchpad.net/c2d4u.team/c2d4u4.0+/ubuntu bionic/main Sources [2,022 kB]\n",
            "Get:16 http://security.ubuntu.com/ubuntu bionic-security/universe amd64 Packages [1,521 kB]\n",
            "Get:17 http://ppa.launchpad.net/c2d4u.team/c2d4u4.0+/ubuntu bionic/main amd64 Packages [1,036 kB]\n",
            "Get:18 http://security.ubuntu.com/ubuntu bionic-security/main amd64 Packages [2,861 kB]\n",
            "Get:19 http://archive.ubuntu.com/ubuntu bionic-updates/universe amd64 Packages [2,297 kB]\n",
            "Get:20 http://security.ubuntu.com/ubuntu bionic-security/restricted amd64 Packages [1,006 kB]\n",
            "Get:21 http://security.ubuntu.com/ubuntu bionic-security/multiverse amd64 Packages [22.8 kB]\n",
            "Get:22 http://archive.ubuntu.com/ubuntu bionic-updates/restricted amd64 Packages [1,040 kB]\n",
            "Get:23 http://archive.ubuntu.com/ubuntu bionic-updates/main amd64 Packages [3,293 kB]\n",
            "Get:24 http://archive.ubuntu.com/ubuntu bionic-updates/multiverse amd64 Packages [29.8 kB]\n",
            "Get:25 http://archive.ubuntu.com/ubuntu bionic-backports/main amd64 Packages [12.2 kB]\n",
            "Get:26 http://ppa.launchpad.net/deadsnakes/ppa/ubuntu bionic/main amd64 Packages [45.3 kB]\n",
            "Get:27 http://ppa.launchpad.net/graphics-drivers/ppa/ubuntu bionic/main amd64 Packages [47.7 kB]\n",
            "Fetched 16.4 MB in 3s (4,762 kB/s)\n",
            "Reading package lists... Done\n"
          ]
        }
      ],
      "source": [
        "import os\n",
        "# Find the latest version of spark 3.0 from http://www.apache.org/dist/spark/ and enter as the spark version\n",
        "# For example:\n",
        "# spark_version = 'spark-3.0.3'\n",
        "spark_version = 'spark-3.2.1'\n",
        "os.environ['SPARK_VERSION']=spark_version\n",
        "\n",
        "# Install Spark and Java\n",
        "!apt-get update\n",
        "!apt-get install openjdk-11-jdk-headless -qq > /dev/null\n",
        "!wget -q http://www.apache.org/dist/spark/$SPARK_VERSION/$SPARK_VERSION-bin-hadoop2.7.tgz\n",
        "!tar xf $SPARK_VERSION-bin-hadoop2.7.tgz\n",
        "!pip install -q findspark\n",
        "\n",
        "# Set Environment Variables\n",
        "import os\n",
        "os.environ[\"JAVA_HOME\"] = \"/usr/lib/jvm/java-11-openjdk-amd64\"\n",
        "os.environ[\"SPARK_HOME\"] = f\"/content/{spark_version}-bin-hadoop2.7\"\n",
        "\n",
        "# Start a SparkSession\n",
        "import findspark\n",
        "findspark.init()"
      ]
    },
    {
      "cell_type": "code",
      "source": [
        "from pyspark.sql import SparkSession\n",
        "spark = SparkSession.builder.appName(\"Vine_Analysis\").getOrCreate()"
      ],
      "metadata": {
        "id": "60r_RdiogBUw"
      },
      "execution_count": 4,
      "outputs": []
    },
    {
      "cell_type": "code",
      "source": [
        "from pyspark import SparkFiles\n",
        "url = \"https://s3.amazonaws.com/amazon-reviews-pds/tsv/amazon_reviews_us_Jewelry_v1_00.tsv.gz\"\n",
        "spark.sparkContext.addFile(url)\n",
        "df = spark.read.option(\"encoding\", \"UTF-8\").csv(SparkFiles.get(\"\"), sep=\"\\t\", header=True, inferSchema=True)\n",
        "df.show()"
      ],
      "metadata": {
        "colab": {
          "base_uri": "https://localhost:8080/"
        },
        "id": "_7IU7cvEgWyq",
        "outputId": "e874e681-b5f0-429b-e035-d7cdbb153f75"
      },
      "execution_count": 6,
      "outputs": [
        {
          "output_type": "stream",
          "name": "stdout",
          "text": [
            "+-----------+-----------+--------------+----------+--------------+--------------------+----------------+-----------+-------------+-----------+----+-----------------+--------------------+--------------------+-----------+\n",
            "|marketplace|customer_id|     review_id|product_id|product_parent|       product_title|product_category|star_rating|helpful_votes|total_votes|vine|verified_purchase|     review_headline|         review_body|review_date|\n",
            "+-----------+-----------+--------------+----------+--------------+--------------------+----------------+-----------+-------------+-----------+----+-----------------+--------------------+--------------------+-----------+\n",
            "|         US|   50423057|R135Q3VZ4DQN5N|B00JWXFDMG|     657335467|Everbling Purple ...|         Jewelry|          5|            0|          0|   N|                Y|           Beauties!|so beautiful even...| 2015-08-31|\n",
            "|         US|   11262325|R2N0QQ6R4T7YRY|B00W5T1H9W|      26030170|925 Sterling Silv...|         Jewelry|          5|            0|          0|   N|                N|      Great product.|Great product.. I...| 2015-08-31|\n",
            "|         US|   27541121|R3N5JE5Y4T6W5M|B00M2L6KFY|     697845240|Sterling Silver C...|         Jewelry|          5|            0|          0|   N|                Y|Exactly as pictur...|Exactly as pictur...| 2015-08-31|\n",
            "|         US|    5350721|R2I150CX5IVY9Q|B0006SW2WU|     569859289|Surgical Stainles...|         Jewelry|          5|            0|          0|   N|                Y|          Five Stars|Love it. Fits gre...| 2015-08-31|\n",
            "|         US|   24484424|R1RM9ICOOA9MQ3|B009YPDW70|     332947422|Sterling Silver F...|         Jewelry|          5|            0|          0|   N|                Y|... a Mother's Da...|Got this as a Mot...| 2015-08-31|\n",
            "|         US|     457767|R2J2KMDL10UMSH|B00QGA8XZM|     424804582|CHOOSE YOUR COLOR...|         Jewelry|          5|            0|          0|   N|                Y|          Five Stars|I Love It Make Me...| 2015-08-31|\n",
            "|         US|   31009358|R3R9ZUFA4TB4FQ|B00L0N0E8E|     589441783|Metal Factory 925...|         Jewelry|          5|            0|          0|   N|                Y|          Five Stars|True to size, unique| 2015-08-31|\n",
            "|         US|    7034628|R3UQ8VAQN7R6WL|B00DMWQKWA|     517428445|niceEshop(TM)Clas...|         Jewelry|          5|            0|          0|   N|                Y|          Five Stars|This necklace is ...| 2015-08-31|\n",
            "|         US|   34608636|R1FXZ69C01JNQM|B00THLHAGA|     320313750|Genuine Natural B...|         Jewelry|          5|            0|          0|   N|                Y|          Five Stars|        just perfect| 2015-08-31|\n",
            "|         US|   44972687| RY36LB4OW0FFS|B00UXSEOHY|     589365488|MBOX Expandable A...|         Jewelry|          5|            0|          0|   N|                Y|          Five Stars|           Love it !| 2015-08-31|\n",
            "|         US|   16684508| R6PKS54PC6ZY2|B00XGRYGVS|     217045013|Set of 3 Nose Rin...|         Jewelry|          1|            4|          4|   N|                Y|I had high hopes ...|They didn't even ...| 2015-08-31|\n",
            "|         US|   23493178|R1LYSAH0IECVWB|B00AJ2VU8A|     972853757|3-row White A Gra...|         Jewelry|          5|            0|          0|   N|                Y|This is a real ni...|This is a real ni...| 2015-08-31|\n",
            "|         US|     108294|R1UN0IZI3XQ3E2|B00LE5Y100|     979375701|KONOV Mens Stainl...|         Jewelry|          5|            2|          3|   N|                Y|             AMAZING|This is a very co...| 2015-08-31|\n",
            "|         US|   25810742| RIKDXD8QGL99S|B013E0AOH6|     619592796|TEMEGO Jewelry Me...|         Jewelry|          5|            1|          1|   N|                Y|          Five Stars|Great quality for...| 2015-08-31|\n",
            "|         US|   12037665| RUZCQTXZVGUFH|B00XAWUP96|     783863439|Royal Blue/White ...|         Jewelry|          4|            1|          1|   N|                Y|A Little Smaller ...|I like the bracel...| 2015-08-31|\n",
            "|         US|   51793466|R35CD4IHO3RP9H|B00WD82F1O|     655270378|10-11mm Baroque F...|         Jewelry|          5|            1|          1|   N|                Y|Pretty and Versatile|This is pretty an...| 2015-08-31|\n",
            "|         US|     127508|R13YD66XC9221U|B00JP4XCSO|     592155747|Sankuwen® Fashion...|         Jewelry|          1|            0|          0|   N|                N|Don't get this li...|Don't get this li...| 2015-08-31|\n",
            "|         US|   38430946| RHWG4JRVDSEYY|B00PZSM384|     622179716|zjskin6688 store ...|         Jewelry|          3|            1|          1|   N|                Y|         Three Stars|Not what I expect...| 2015-08-31|\n",
            "|         US|   33684654|R3SPIKMJ5IWHX8|B00VLMW18K|      36759824|Scheppend Polymer...|         Jewelry|          4|            0|          0|   N|                Y|          Four Stars|Bought these for ...| 2015-08-31|\n",
            "|         US|    5068631| RS19ACU7KWWNE|B00U5LDBB4|     575109200|Horizontal Sidewa...|         Jewelry|          5|            1|          1|   N|                Y|          Five Stars|Pretty, and very ...| 2015-08-31|\n",
            "+-----------+-----------+--------------+----------+--------------+--------------------+----------------+-----------+-------------+-----------+----+-----------------+--------------------+--------------------+-----------+\n",
            "only showing top 20 rows\n",
            "\n"
          ]
        }
      ]
    },
    {
      "cell_type": "code",
      "source": [
        "# Cleaning dataframe\n",
        "clean_df = df.dropna()\n",
        "clean_df.show(10)"
      ],
      "metadata": {
        "colab": {
          "base_uri": "https://localhost:8080/"
        },
        "id": "RIePORsJga89",
        "outputId": "876b7b8e-5919-4680-afcb-0a2ceb292eff"
      },
      "execution_count": 7,
      "outputs": [
        {
          "output_type": "stream",
          "name": "stdout",
          "text": [
            "+-----------+-----------+--------------+----------+--------------+--------------------+----------------+-----------+-------------+-----------+----+-----------------+--------------------+--------------------+-----------+\n",
            "|marketplace|customer_id|     review_id|product_id|product_parent|       product_title|product_category|star_rating|helpful_votes|total_votes|vine|verified_purchase|     review_headline|         review_body|review_date|\n",
            "+-----------+-----------+--------------+----------+--------------+--------------------+----------------+-----------+-------------+-----------+----+-----------------+--------------------+--------------------+-----------+\n",
            "|         US|   50423057|R135Q3VZ4DQN5N|B00JWXFDMG|     657335467|Everbling Purple ...|         Jewelry|          5|            0|          0|   N|                Y|           Beauties!|so beautiful even...| 2015-08-31|\n",
            "|         US|   11262325|R2N0QQ6R4T7YRY|B00W5T1H9W|      26030170|925 Sterling Silv...|         Jewelry|          5|            0|          0|   N|                N|      Great product.|Great product.. I...| 2015-08-31|\n",
            "|         US|   27541121|R3N5JE5Y4T6W5M|B00M2L6KFY|     697845240|Sterling Silver C...|         Jewelry|          5|            0|          0|   N|                Y|Exactly as pictur...|Exactly as pictur...| 2015-08-31|\n",
            "|         US|    5350721|R2I150CX5IVY9Q|B0006SW2WU|     569859289|Surgical Stainles...|         Jewelry|          5|            0|          0|   N|                Y|          Five Stars|Love it. Fits gre...| 2015-08-31|\n",
            "|         US|   24484424|R1RM9ICOOA9MQ3|B009YPDW70|     332947422|Sterling Silver F...|         Jewelry|          5|            0|          0|   N|                Y|... a Mother's Da...|Got this as a Mot...| 2015-08-31|\n",
            "|         US|     457767|R2J2KMDL10UMSH|B00QGA8XZM|     424804582|CHOOSE YOUR COLOR...|         Jewelry|          5|            0|          0|   N|                Y|          Five Stars|I Love It Make Me...| 2015-08-31|\n",
            "|         US|   31009358|R3R9ZUFA4TB4FQ|B00L0N0E8E|     589441783|Metal Factory 925...|         Jewelry|          5|            0|          0|   N|                Y|          Five Stars|True to size, unique| 2015-08-31|\n",
            "|         US|    7034628|R3UQ8VAQN7R6WL|B00DMWQKWA|     517428445|niceEshop(TM)Clas...|         Jewelry|          5|            0|          0|   N|                Y|          Five Stars|This necklace is ...| 2015-08-31|\n",
            "|         US|   34608636|R1FXZ69C01JNQM|B00THLHAGA|     320313750|Genuine Natural B...|         Jewelry|          5|            0|          0|   N|                Y|          Five Stars|        just perfect| 2015-08-31|\n",
            "|         US|   44972687| RY36LB4OW0FFS|B00UXSEOHY|     589365488|MBOX Expandable A...|         Jewelry|          5|            0|          0|   N|                Y|          Five Stars|           Love it !| 2015-08-31|\n",
            "+-----------+-----------+--------------+----------+--------------+--------------------+----------------+-----------+-------------+-----------+----+-----------------+--------------------+--------------------+-----------+\n",
            "only showing top 10 rows\n",
            "\n"
          ]
        }
      ]
    },
    {
      "cell_type": "code",
      "source": [
        "# Creating vine_df from Deliverable 1\n",
        "vine_df = clean_df.select(['review_id', 'star_rating', 'helpful_votes', 'total_votes', 'vine', 'verified_purchase'])\n",
        "vine_df2 = vine_df.withColumn(\"star_rating\",\n",
        "                              vine_df['star_rating']\n",
        "                              .cast('int'))\n",
        "vine_df2.dtypes"
      ],
      "metadata": {
        "colab": {
          "base_uri": "https://localhost:8080/"
        },
        "id": "wGjp0Iu2gxe-",
        "outputId": "00bd5457-94be-417d-949b-6ef134e84818"
      },
      "execution_count": 8,
      "outputs": [
        {
          "output_type": "execute_result",
          "data": {
            "text/plain": [
              "[('review_id', 'string'),\n",
              " ('star_rating', 'int'),\n",
              " ('helpful_votes', 'int'),\n",
              " ('total_votes', 'int'),\n",
              " ('vine', 'string'),\n",
              " ('verified_purchase', 'string')]"
            ]
          },
          "metadata": {},
          "execution_count": 8
        }
      ]
    },
    {
      "cell_type": "code",
      "source": [
        "# Creating a dataframe that only holds products with 20 or more total votes\n",
        "twenty_votes = vine_df2.filter('total_votes>=20')\n",
        "twenty_votes.show()"
      ],
      "metadata": {
        "colab": {
          "base_uri": "https://localhost:8080/"
        },
        "id": "5H0-ovhkiGEe",
        "outputId": "d45129b2-da79-4a6f-f88b-fde29ddab7a3"
      },
      "execution_count": 9,
      "outputs": [
        {
          "output_type": "stream",
          "name": "stdout",
          "text": [
            "+--------------+-----------+-------------+-----------+----+-----------------+\n",
            "|     review_id|star_rating|helpful_votes|total_votes|vine|verified_purchase|\n",
            "+--------------+-----------+-------------+-----------+----+-----------------+\n",
            "|R16YC6SMGKA8SR|          5|           23|         23|   N|                Y|\n",
            "| R5O4WE9UM60B0|          1|           29|         29|   N|                Y|\n",
            "|R2EKRVCRC7U0IY|          1|           22|         24|   N|                Y|\n",
            "|R2OKV47GETH0L7|          5|           24|         24|   N|                Y|\n",
            "| R36LII9IITE17|          1|           22|         24|   N|                Y|\n",
            "|R35VKNE16PFY0H|          5|           22|         24|   N|                N|\n",
            "|R3TG008LHHZZIN|          5|          123|        125|   N|                Y|\n",
            "|R2FYQBKCC1XG4M|          5|           20|         20|   N|                Y|\n",
            "| R63PV336NI5X7|          1|           27|         28|   N|                Y|\n",
            "|R1R42WPHB5ZSWI|          5|           51|         52|   N|                Y|\n",
            "| RXSS0QZJE1TEO|          1|           35|         35|   N|                Y|\n",
            "| RGS9C5XKWVYP9|          1|           24|         24|   N|                Y|\n",
            "|R3R5BWMKH1EUIQ|          5|           26|         27|   N|                N|\n",
            "|R2KBDT7RGO1G86|          3|           33|         39|   N|                Y|\n",
            "|R2WA09RFYT69GB|          5|           21|         22|   N|                Y|\n",
            "| RYNTUAMCHU3W4|          5|           22|         22|   N|                Y|\n",
            "|R3U5NCDM6NLHLC|          5|           29|         30|   N|                Y|\n",
            "| R8708W8U0Z89A|          2|           37|         38|   N|                Y|\n",
            "| RFT7R66D3SA54|          5|           23|         24|   N|                Y|\n",
            "|R1OI5TTOS49U8R|          5|           33|         34|   N|                Y|\n",
            "+--------------+-----------+-------------+-----------+----+-----------------+\n",
            "only showing top 20 rows\n",
            "\n"
          ]
        }
      ]
    },
    {
      "cell_type": "code",
      "source": [
        "# Creating dataframe where helpful votes / total votes is greater than 50% \n",
        "fifty_percent = twenty_votes.filter(twenty_votes['helpful_votes'] / twenty_votes['total_votes'] >= .5)\n",
        "fifty_percent.show()"
      ],
      "metadata": {
        "colab": {
          "base_uri": "https://localhost:8080/"
        },
        "id": "7gwCfKbAjPTQ",
        "outputId": "bca8ea81-5bce-4842-ffd2-cc951e6dd3b3"
      },
      "execution_count": 10,
      "outputs": [
        {
          "output_type": "stream",
          "name": "stdout",
          "text": [
            "+--------------+-----------+-------------+-----------+----+-----------------+\n",
            "|     review_id|star_rating|helpful_votes|total_votes|vine|verified_purchase|\n",
            "+--------------+-----------+-------------+-----------+----+-----------------+\n",
            "|R16YC6SMGKA8SR|          5|           23|         23|   N|                Y|\n",
            "| R5O4WE9UM60B0|          1|           29|         29|   N|                Y|\n",
            "|R2EKRVCRC7U0IY|          1|           22|         24|   N|                Y|\n",
            "|R2OKV47GETH0L7|          5|           24|         24|   N|                Y|\n",
            "| R36LII9IITE17|          1|           22|         24|   N|                Y|\n",
            "|R35VKNE16PFY0H|          5|           22|         24|   N|                N|\n",
            "|R3TG008LHHZZIN|          5|          123|        125|   N|                Y|\n",
            "|R2FYQBKCC1XG4M|          5|           20|         20|   N|                Y|\n",
            "| R63PV336NI5X7|          1|           27|         28|   N|                Y|\n",
            "|R1R42WPHB5ZSWI|          5|           51|         52|   N|                Y|\n",
            "| RXSS0QZJE1TEO|          1|           35|         35|   N|                Y|\n",
            "| RGS9C5XKWVYP9|          1|           24|         24|   N|                Y|\n",
            "|R3R5BWMKH1EUIQ|          5|           26|         27|   N|                N|\n",
            "|R2KBDT7RGO1G86|          3|           33|         39|   N|                Y|\n",
            "|R2WA09RFYT69GB|          5|           21|         22|   N|                Y|\n",
            "| RYNTUAMCHU3W4|          5|           22|         22|   N|                Y|\n",
            "|R3U5NCDM6NLHLC|          5|           29|         30|   N|                Y|\n",
            "| R8708W8U0Z89A|          2|           37|         38|   N|                Y|\n",
            "| RFT7R66D3SA54|          5|           23|         24|   N|                Y|\n",
            "|R1OI5TTOS49U8R|          5|           33|         34|   N|                Y|\n",
            "+--------------+-----------+-------------+-----------+----+-----------------+\n",
            "only showing top 20 rows\n",
            "\n"
          ]
        }
      ]
    },
    {
      "cell_type": "code",
      "source": [
        "# Creating dataframe for reviews in paid vine program\n",
        "paid_vine = fifty_percent.filter(fifty_percent['vine'] == 'Y')\n",
        "paid_vine.show()"
      ],
      "metadata": {
        "colab": {
          "base_uri": "https://localhost:8080/"
        },
        "id": "Hi2kic-Bkg56",
        "outputId": "dad15f5c-466a-40e4-d88a-2b404e8f546c"
      },
      "execution_count": 11,
      "outputs": [
        {
          "output_type": "stream",
          "name": "stdout",
          "text": [
            "+--------------+-----------+-------------+-----------+----+-----------------+\n",
            "|     review_id|star_rating|helpful_votes|total_votes|vine|verified_purchase|\n",
            "+--------------+-----------+-------------+-----------+----+-----------------+\n",
            "|R15PXA9XU9ZKSU|          4|           29|         29|   Y|                N|\n",
            "|R2LJ4QYQ4PYDEH|          5|           24|         26|   Y|                N|\n",
            "|R2PJWWQZ37WCIC|          5|           95|         96|   Y|                N|\n",
            "|R33G2VDKRN2USY|          5|           21|         21|   Y|                N|\n",
            "|R13R4X37T2U50A|          4|           52|         57|   Y|                N|\n",
            "|R1X1J2NAQ39DF6|          4|           29|         34|   Y|                N|\n",
            "|R2UV5XHFNMPXOX|          5|           60|         61|   Y|                N|\n",
            "|R31V08BCC9X3MF|          5|           18|         22|   Y|                N|\n",
            "|R2G00QWTYW9N2G|          5|           86|         91|   Y|                N|\n",
            "| RL8H3NKKP989J|          5|           30|         34|   Y|                N|\n",
            "| RZ65QBOJ8ZNRN|          4|           19|         22|   Y|                N|\n",
            "| RDZBWH5MFEQY1|          5|           18|         22|   Y|                N|\n",
            "|R24SU7KP57HE8L|          4|           25|         26|   Y|                N|\n",
            "| RV3V9VIC29R8S|          2|           66|         68|   Y|                N|\n",
            "|R31AR3XSFSHY1B|          4|           33|         35|   Y|                N|\n",
            "|R3VWAKQ4JXGE55|          5|           33|         34|   Y|                N|\n",
            "| RNZ2BP0EHN7IK|          5|           20|         20|   Y|                N|\n",
            "| RXKITVQ3MN3PS|          4|           22|         23|   Y|                N|\n",
            "|R3TZE1OYDVZPRD|          5|           23|         24|   Y|                N|\n",
            "|R3FO353G2ET17M|          4|           23|         24|   Y|                N|\n",
            "+--------------+-----------+-------------+-----------+----+-----------------+\n",
            "only showing top 20 rows\n",
            "\n"
          ]
        }
      ]
    },
    {
      "cell_type": "code",
      "source": [
        "# Creating dataframe for reviews not in program\n",
        "unpaid_vine = fifty_percent.filter(fifty_percent['vine'] == 'N')\n",
        "unpaid_vine.show()"
      ],
      "metadata": {
        "colab": {
          "base_uri": "https://localhost:8080/"
        },
        "id": "L7h6_mDBtmvR",
        "outputId": "b00a15f3-5234-43f9-c501-cb100c3aa614"
      },
      "execution_count": 12,
      "outputs": [
        {
          "output_type": "stream",
          "name": "stdout",
          "text": [
            "+--------------+-----------+-------------+-----------+----+-----------------+\n",
            "|     review_id|star_rating|helpful_votes|total_votes|vine|verified_purchase|\n",
            "+--------------+-----------+-------------+-----------+----+-----------------+\n",
            "|R16YC6SMGKA8SR|          5|           23|         23|   N|                Y|\n",
            "| R5O4WE9UM60B0|          1|           29|         29|   N|                Y|\n",
            "|R2EKRVCRC7U0IY|          1|           22|         24|   N|                Y|\n",
            "|R2OKV47GETH0L7|          5|           24|         24|   N|                Y|\n",
            "| R36LII9IITE17|          1|           22|         24|   N|                Y|\n",
            "|R35VKNE16PFY0H|          5|           22|         24|   N|                N|\n",
            "|R3TG008LHHZZIN|          5|          123|        125|   N|                Y|\n",
            "|R2FYQBKCC1XG4M|          5|           20|         20|   N|                Y|\n",
            "| R63PV336NI5X7|          1|           27|         28|   N|                Y|\n",
            "|R1R42WPHB5ZSWI|          5|           51|         52|   N|                Y|\n",
            "| RXSS0QZJE1TEO|          1|           35|         35|   N|                Y|\n",
            "| RGS9C5XKWVYP9|          1|           24|         24|   N|                Y|\n",
            "|R3R5BWMKH1EUIQ|          5|           26|         27|   N|                N|\n",
            "|R2KBDT7RGO1G86|          3|           33|         39|   N|                Y|\n",
            "|R2WA09RFYT69GB|          5|           21|         22|   N|                Y|\n",
            "| RYNTUAMCHU3W4|          5|           22|         22|   N|                Y|\n",
            "|R3U5NCDM6NLHLC|          5|           29|         30|   N|                Y|\n",
            "| R8708W8U0Z89A|          2|           37|         38|   N|                Y|\n",
            "| RFT7R66D3SA54|          5|           23|         24|   N|                Y|\n",
            "|R1OI5TTOS49U8R|          5|           33|         34|   N|                Y|\n",
            "+--------------+-----------+-------------+-----------+----+-----------------+\n",
            "only showing top 20 rows\n",
            "\n"
          ]
        }
      ]
    },
    {
      "cell_type": "code",
      "source": [
        "total_reviews = vine_df2.count()\n",
        "five_stars = vine_df2.filter('star_rating=5')\n",
        "five_stars_count = vine_df2.filter('star_rating=5').count()\n",
        "paid_percentage = (five_stars.filter(vine_df2['vine'] == 'Y').count()) / total_reviews\n",
        "unpaid_percentage = (five_stars.filter(vine_df2['vine'] == 'N').count()) / total_reviews"
      ],
      "metadata": {
        "id": "0z-EOUc0t0UW"
      },
      "execution_count": 25,
      "outputs": []
    },
    {
      "cell_type": "code",
      "source": [
        "print(f'Total Reviews = {total_reviews}')\n",
        "print(f'Total 5 Star Reviews =  {five_stars_count}')\n",
        "print(f'Total Percentage of 5 Star Paid Reviews = {paid_percentage * 100}%')\n",
        "print(f'Total Percentage of 5 Star Unpaid Reviews = {unpaid_percentage * 100} %')\n"
      ],
      "metadata": {
        "colab": {
          "base_uri": "https://localhost:8080/"
        },
        "id": "UcIEDtZZv2DC",
        "outputId": "3d6faf23-0e23-4ef3-a95f-592fc444c587"
      },
      "execution_count": 26,
      "outputs": [
        {
          "output_type": "stream",
          "name": "stdout",
          "text": [
            "Total Reviews = 1767394\n",
            "Total 5 Star Reviews =  1081244\n",
            "Total Percentage of 5 Star Paid Reviews = 0.09748816619271085%\n",
            "Total Percentage of 5 Star Unpaid Reviews = 61.07981581922311 %\n"
          ]
        }
      ]
    },
    {
      "cell_type": "code",
      "source": [
        ""
      ],
      "metadata": {
        "id": "4vciX3qLRwo1"
      },
      "execution_count": null,
      "outputs": []
    }
  ]
}